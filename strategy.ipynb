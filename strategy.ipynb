{
 "cells": [
  {
   "cell_type": "markdown",
   "metadata": {},
   "source": [
    "# Machine learning - RidgeRegression (Long/Short)\n",
    "\n",
    "This example uses RidgeRegression to predict if the price is going up or down. Based on this predictions we can then define at which certainties we will go long/short or do nothing. This example was build for the **Q18 NASDAQ-100 Stock Long-Short contest**.\n",
    "\n",
    "**Strategy idea:** We will go long or short on NASDAQ-100 stocks depending on predictions of **RidgeRegression** regarding if the price is moving up or down.\n",
    "\n",
    "**Features for learning** -  trend indicator, stochastic oscillator, volatility\n",
    "\n",
    "To have a look at all the technical indicators we offer, go to [**Technical Indicators**](https://quantiacs.com/documentation/en/user_guide/technical_indicators.html)\n",
    "\n",
    "---\n",
    "\n",
    "\n",
    "We will use a **specialized** version of the Quantiacs backtester for this purpose, which dramatically speeds up the backtesting process when the models should be retrained on a regular basis.\n",
    "\n",
    "**Need help?** Check the [**Documentation**](https://quantiacs.com/documentation/en/) and find solutions/report problems in the [**Forum**](https://quantiacs.com/community/categories) section.\n",
    "\n",
    "**More help with Jupyter?** Check the official [**Jupyter**](https://jupyter.org/) page.\n",
    "\n",
    "Once you are done, click on **Submit to the contest** and take part to our competitions.\n",
    "\n",
    "Learn more about **RidgeRegression** and other ML models: [**scikit-learn**](https://scikit-learn.org/stable/)\n",
    "\n",
    "API reference:\n",
    "\n",
    "* **data**: check how to work with [data](https://quantiacs.com/documentation/en/reference/data_load_functions.html);\n",
    "\n",
    "* **backtesting**: read how to run the [simulation](https://quantiacs.com/documentation/en/reference/evaluation.html) and check the results."
   ]
  },
  {
   "cell_type": "code",
   "execution_count": 1,
   "metadata": {},
   "outputs": [
    {
     "data": {
      "application/javascript": [
       "IPython.OutputArea.prototype._should_scroll = function(lines) { return false; }\n",
       "// disable widget scrolling\n"
      ],
      "text/plain": [
       "<IPython.core.display.Javascript object>"
      ]
     },
     "metadata": {},
     "output_type": "display_data"
    }
   ],
   "source": [
    "%%javascript\n",
    "IPython.OutputArea.prototype._should_scroll = function(lines) { return false; }\n",
    "// disable widget scrolling"
   ]
  },
  {
   "cell_type": "code",
   "execution_count": 2,
   "metadata": {},
   "outputs": [
    {
     "data": {
      "text/html": [
       "        <script type=\"text/javascript\">\n",
       "        window.PlotlyConfig = {MathJaxConfig: 'local'};\n",
       "        if (window.MathJax) {MathJax.Hub.Config({SVG: {font: \"STIX-Web\"}});}\n",
       "        if (typeof require !== 'undefined') {\n",
       "        require.undef(\"plotly\");\n",
       "        requirejs.config({\n",
       "            paths: {\n",
       "                'plotly': ['https://cdn.plot.ly/plotly-latest.min']\n",
       "            }\n",
       "        });\n",
       "        require(['plotly'], function(Plotly) {\n",
       "            window._Plotly = Plotly;\n",
       "        });\n",
       "        }\n",
       "        </script>\n",
       "        "
      ]
     },
     "metadata": {},
     "output_type": "display_data"
    }
   ],
   "source": [
    "import logging\n",
    "\n",
    "import pandas as pd\n",
    "import xarray as xr\n",
    "import numpy as np\n",
    "\n",
    "import qnt.backtester as qnbt\n",
    "import qnt.ta as qnta"
   ]
  },
  {
   "cell_type": "code",
   "execution_count": 3,
   "metadata": {},
   "outputs": [],
   "source": [
    "def create_model():\n",
    "    \"\"\"This is a constructor for the ML model which can be easily modified using a\n",
    "       different model. \n",
    "    \"\"\"\n",
    "    from sklearn.linear_model import Ridge\n",
    "    model = Ridge(random_state=18)\n",
    "    \n",
    "    return model"
   ]
  },
  {
   "cell_type": "code",
   "execution_count": 4,
   "metadata": {},
   "outputs": [],
   "source": [
    "def get_features(data):\n",
    "    \"\"\"Builds the features used for learning:\n",
    "       * a trend indicator;\n",
    "       * the stochastic oscillator;\n",
    "       * volatility;\n",
    "       \n",
    "       These features can be modified and new ones can be added easily.\n",
    "    \"\"\"\n",
    "    #print(data)\n",
    "    #trend\n",
    "    trend = qnta.roc(qnta.lwma(data.sel(field='close'), 70), 1)\n",
    "\n",
    "    # stochastic oscillator:\n",
    "    k, d = qnta.stochastic(data.sel(field='high'), data.sel(field='low'), data.sel(field='close'), 14)\n",
    "    \n",
    "    #volatility\n",
    "    volatility = qnta.tr(data.sel(field='high'), data.sel(field='low'), data.sel(field='close'))\n",
    "\n",
    "    # combine the selected four features:\n",
    "    result = xr.concat(\n",
    "        [trend, d,volatility],\n",
    "        pd.Index(\n",
    "            ['trend', 'stochastic_d','volatilty'],\n",
    "            name = 'field'\n",
    "        )\n",
    "    )\n",
    "    \n",
    "    return result.transpose('time', 'field', 'asset')"
   ]
  },
  {
   "cell_type": "code",
   "execution_count": 5,
   "metadata": {},
   "outputs": [],
   "source": [
    "def get_target_classes(data):\n",
    "    \"\"\"Builds target classes for predicting if price goes up or down. This will later be use to evaluate if \n",
    "        we long or short.\n",
    "    \"\"\"\n",
    "\n",
    "    price_current = data.sel(field='close')\n",
    "    price_future = qnta.shift(price_current, -1)\n",
    "\n",
    "    class_positive = 1 #prices goes up\n",
    "    class_negative = 0 #price goes down\n",
    "\n",
    "    target_is_price_up = xr.where(price_future > price_current, class_positive, class_negative)\n",
    "    \n",
    "    return target_is_price_up"
   ]
  },
  {
   "cell_type": "code",
   "execution_count": 6,
   "metadata": {},
   "outputs": [],
   "source": [
    "def train_model(data):\n",
    "    \"\"\"Create and train the models working on an asset-by-asset basis.\"\"\"\n",
    "    \n",
    "    asset_name_all = ['NAS:AAPL', 'NAS:AMZN', 'NAS:MSFT']\n",
    "    \n",
    "    features_all = get_features(data)\n",
    "    target_all = get_target_classes(data)\n",
    "\n",
    "    models = dict()\n",
    "    \n",
    "    for asset_name in asset_name_all:\n",
    "        model = create_model()\n",
    "        # drop missing values:\n",
    "        try:\n",
    "            target_cur = target_all.sel(asset=asset_name).dropna('time', 'any')\n",
    "        except: \n",
    "            print(target_all[\"asset\"])\n",
    "        features_cur = features_all.sel(asset=asset_name).dropna('time', 'any')\n",
    "\n",
    "        # align features and targets:\n",
    "        target_for_learn_df, feature_for_learn_df = xr.align(target_cur, features_cur, join='inner')\n",
    "\n",
    "        if len(features_cur.time) < 10:\n",
    "            # not enough points for training\n",
    "            continue\n",
    "\n",
    "        \n",
    "        \n",
    "        try:\n",
    "            model.fit(feature_for_learn_df.values, target_for_learn_df)\n",
    "            models[asset_name] = model\n",
    "        except KeyboardInterrupt as e:\n",
    "            raise e\n",
    "        except:\n",
    "            logging.exception('model training failed')\n",
    "\n",
    "    return models"
   ]
  },
  {
   "cell_type": "code",
   "execution_count": 7,
   "metadata": {},
   "outputs": [],
   "source": [
    "def predict(models, data):\n",
    "    \"\"\"The model predicts if the price is going up or down and we then use this information to determine \n",
    "        if we want to go long, short or do nothing.\n",
    "       Prediction is performed for several days in order to speed up the evaluation.\n",
    "    \"\"\"\n",
    "    \n",
    "    asset_name_all = ['NAS:AAPL', 'NAS:AMZN' , 'NAS:MSFT']\n",
    "    weights = xr.zeros_like(data.sel(field='close'))\n",
    "    \n",
    "    for asset_name in asset_name_all:\n",
    "        features_all = get_features(data)\n",
    "        features_cur = features_all.sel(asset=asset_name).dropna('time','any')\n",
    "        if len(features_cur.time) < 1:\n",
    "            continue\n",
    "        try:\n",
    "            prediction = models[asset_name].predict(features_cur.values) #prediction for each day (in [0,1])\n",
    "            \n",
    "            for i in range(len(prediction)):\n",
    "                p = prediction[i] \n",
    "                \n",
    "                if p > 0.5: #model predicts price is going up\n",
    "                    prediction[i] = 1 #long\n",
    "                    \n",
    "                elif p < 0.4: #model is fairly certain price is going down\n",
    "                    prediction[i] = -1 #short\n",
    "                    \n",
    "                else: #model is not so sure about price going down\n",
    "                    prediction[i] = 0 #do nothing\n",
    "                \n",
    "            weights.loc[dict(asset=asset_name,time=features_cur.time.values)] = prediction\n",
    "            \n",
    "        except KeyboardInterrupt as e:\n",
    "            raise e\n",
    "        except:\n",
    "            logging.exception('model prediction failed')\n",
    "                \n",
    "    return weights"
   ]
  },
  {
   "cell_type": "code",
   "execution_count": 8,
   "metadata": {},
   "outputs": [
    {
     "name": "stdout",
     "output_type": "stream",
     "text": [
      "Run the last iteration...\n",
      "fetched chunk 1/3 0s\n",
      "fetched chunk 2/3 0s\n",
      "fetched chunk 3/3 0s\n",
      "Data loaded 0s\n",
      "fetched chunk 1/1 0s\n",
      "Data loaded 0s\n",
      "Output cleaning...\n",
      "fix uniq\n",
      "ffill if the current price is None...\n",
      "Check liquidity...\n",
      "Ok.\n",
      "Check missed dates...\n",
      "Ok.\n",
      "Normalization...\n",
      "Output cleaning is complete.\n",
      "Write output: /root/fractions.nc.gz\n",
      "State saved.\n",
      "---\n",
      "Run First Iteration...\n",
      "fetched chunk 1/2 0s\n",
      "fetched chunk 2/2 0s\n",
      "Data loaded 0s\n",
      "---\n",
      "Run all iterations...\n",
      "Load data...\n",
      "fetched chunk 1/9 0s\n",
      "fetched chunk 2/9 0s\n",
      "fetched chunk 3/9 0s\n",
      "fetched chunk 4/9 0s\n",
      "fetched chunk 5/9 0s\n",
      "fetched chunk 6/9 0s\n",
      "fetched chunk 7/9 0s\n",
      "fetched chunk 8/9 1s\n",
      "fetched chunk 9/9 1s\n",
      "Data loaded 1s\n",
      "fetched chunk 1/5 0s\n",
      "fetched chunk 2/5 0s\n",
      "fetched chunk 3/5 0s\n",
      "fetched chunk 4/5 0s\n",
      "fetched chunk 5/5 0s\n",
      "Data loaded 0s\n",
      "Backtest...\n"
     ]
    },
    {
     "name": "stderr",
     "output_type": "stream",
     "text": [
      " 99% (4227 of 4228) |################### | Elapsed Time: 0:00:08 ETA:   0:00:00"
     ]
    },
    {
     "name": "stdout",
     "output_type": "stream",
     "text": [
      "fetched chunk 1/5 0s\n",
      "fetched chunk 2/5 0s\n",
      "fetched chunk 3/5 0s\n",
      "fetched chunk 4/5 0s\n",
      "fetched chunk 5/5 0s\n",
      "Data loaded 0s\n",
      "Output cleaning...\n",
      "fix uniq\n",
      "ffill if the current price is None...\n",
      "Check liquidity...\n",
      "Ok.\n",
      "Check missed dates...\n",
      "Ok.\n",
      "Normalization...\n",
      "Output cleaning is complete.\n",
      "Write output: /root/fractions.nc.gz\n",
      "State saved.\n",
      "---\n",
      "Analyze results...\n",
      "Check...\n",
      "Check liquidity...\n",
      "Ok.\n",
      "Check missed dates...\n",
      "Ok.\n",
      "Check the sharpe ratio...\n",
      "Period: 2006-01-01 - 2022-06-16\n",
      "Sharpe Ratio = 0.3336721279843639\n"
     ]
    },
    {
     "name": "stderr",
     "output_type": "stream",
     "text": [
      "ERROR! The Sharpe Ratio is too low. 0.3336721279843639 < 1\n",
      "Improve the strategy and make sure that the in-sample Sharpe Ratio more than 1.\n"
     ]
    },
    {
     "name": "stdout",
     "output_type": "stream",
     "text": [
      "Check correlation.\n",
      "\n",
      "Ok. This strategy does not correlate with other strategies.\n",
      "---\n",
      "Align...\n",
      "Calc global stats...\n",
      "---\n",
      "Calc stats per asset...\n",
      "Build plots...\n",
      "---\n",
      "Select the asset (or leave blank to display the overall stats):\n"
     ]
    },
    {
     "data": {
      "application/vnd.jupyter.widget-view+json": {
       "model_id": "2d9a3a875e4b4295b5cb8d113f792160",
       "version_major": 2,
       "version_minor": 0
      },
      "text/plain": [
       "interactive(children=(Combobox(value='', description='asset', options=('', 'NAS:AAL', 'NAS:AAPL', 'NAS:ABNB', …"
      ]
     },
     "metadata": {},
     "output_type": "display_data"
    },
    {
     "name": "stderr",
     "output_type": "stream",
     "text": [
      "100% (4228 of 4228) |####################| Elapsed Time: 0:00:56 Time:  0:00:56\n"
     ]
    }
   ],
   "source": [
    "weights = qnbt.backtest_ml(\n",
    "    train=train_model,\n",
    "    predict=predict,\n",
    "    train_period=10*365,   # the data length for training in calendar days\n",
    "    retrain_interval=365,  # how often we have to retrain models (calendar days)\n",
    "    retrain_interval_after_submit=1, # how often retrain models after submission during evaluation (calendar days)\n",
    "    predict_each_day=False,  # Is it necessary to call prediction for every day during backtesting?\n",
    "                             # Set it to true if you suspect that get_features is looking forward.\n",
    "    competition_type='stocks_nasdaq100',  # competition type\n",
    "    lookback_period=365,      # how many calendar days are needed by the predict function to generate the output\n",
    "    start_date='2006-01-01',  # backtest start date\n",
    "    build_plots=True          # do you need the chart?\n",
    ")"
   ]
  },
  {
   "cell_type": "markdown",
   "metadata": {},
   "source": [
    "# What libraries are available?\n",
    "\n",
    "Our library makes extensive use of xarray: \n",
    "\n",
    "[xarray](http://xarray.pydata.org/en/stable/)\n",
    "\n",
    "pandas:\n",
    "\n",
    "[pandas](https://pandas.pydata.org/)\n",
    "\n",
    "and numpy:\n",
    "\n",
    "[numpy](https://numpy.org/)\n",
    "\n",
    "Function definitions can be found in the qnt folder in your private root directory.\n",
    "\n",
    "```python\n",
    "# Import basic libraries.\n",
    "import xarray as xr\n",
    "import pandas as pd\n",
    "import numpy as np\n",
    "\n",
    "# Import quantnet libraries.\n",
    "import qnt.data    as qndata  # load and manipulate data\n",
    "import qnt.output as output   # manage output\n",
    "import qnt.backtester as qnbt # backtester\n",
    "import qnt.stats   as qnstats # statistical functions for analysis\n",
    "import qnt.graph   as qngraph # graphical tools\n",
    "import qnt.ta      as qnta    # indicators library\n",
    "```"
   ]
  },
  {
   "cell_type": "markdown",
   "metadata": {},
   "source": [
    "# May I import libraries?\n",
    "\n",
    "Yes, please refer to the file **init.ipynb** in your home directory. You can dor example use:\n",
    "\n",
    "! conda install -y scikit-learn"
   ]
  },
  {
   "cell_type": "markdown",
   "metadata": {},
   "source": [
    "# How to load data?\n",
    "\n",
    "Futures:\n",
    "```python\n",
    "data= qndata.futures.load_data(tail = 15*365, dims = (\"time\", \"field\", \"asset\"))\n",
    "```\n",
    "\n",
    "BTC Futures:\n",
    "```python\n",
    "data= qndata.cryptofutures.load_data(tail = 15*365, dims = (\"time\", \"field\", \"asset\"))\n",
    "```\n",
    "\n",
    "Cryptocurrencies:\n",
    "```python\n",
    "data= qndata.crypto.load_data(tail = 15*365, dims = (\"time\", \"field\", \"asset\"))\n",
    "```"
   ]
  },
  {
   "cell_type": "markdown",
   "metadata": {},
   "source": [
    "# How to view a list of all tickers?\n",
    "\n",
    "```python\n",
    "data.asset.to_pandas().to_list()\n",
    "```"
   ]
  },
  {
   "cell_type": "markdown",
   "metadata": {},
   "source": [
    "# How to see which fields are available?\n",
    "\n",
    "```python\n",
    "data.field.to_pandas().to_list()\n",
    "```"
   ]
  },
  {
   "cell_type": "markdown",
   "metadata": {},
   "source": [
    "# How to load specific tickers?\n",
    "\n",
    "```python\n",
    "data = qndata.futures.load_data(tail=15 * 365, assets=['F_O', 'F_DX', 'F_GC'])\n",
    "```"
   ]
  },
  {
   "cell_type": "markdown",
   "metadata": {},
   "source": [
    "# How to select specific tickers after loading all data?\n",
    "\n",
    "```python\n",
    "def get_data_filter(data, assets):\n",
    "    filler= data.sel(asset=assets)\n",
    "    return filler\n",
    "\n",
    "get_data_filter(data, [\"F_O\", \"F_DX\", \"F_GC\"])\n",
    "```"
   ]
  },
  {
   "cell_type": "markdown",
   "metadata": {},
   "source": [
    "# How to get the prices for the previous day?\n",
    "\n",
    "```python\n",
    "qnta.shift(data.sel(field=\"open\"), periods=1)\n",
    "```\n",
    "\n",
    "or:\n",
    "\n",
    "```python\n",
    "data.sel(field=\"open\").shift(time=1)\n",
    "```"
   ]
  },
  {
   "cell_type": "markdown",
   "metadata": {},
   "source": [
    "# How do I get a list of the top 10 assets ranked by Sharpe ratio?\n",
    "\n",
    "```python\n",
    "import qnt.stats as qnstats\n",
    "\n",
    "data= qndata.futures.load_data(tail=16 * 365)\n",
    "\n",
    "def get_best_instruments(data, weights, top_size):\n",
    "    # compute statistics:\n",
    "    stats_per_asset= qnstats.calc_stat(data, weights, per_asset=True)\n",
    "    # calculate ranks of assets by \"sharpe_ratio\":\n",
    "    ranks= (-stats_per_asset.sel(field=\"sharpe_ratio\")).rank(\"asset\")\n",
    "    # select top assets by rank \"top_period\" days ago:\n",
    "    top_period= 300\n",
    "    rank= ranks.isel(time=-top_period)\n",
    "    top= rank.where(rank <= top_size).dropna(\"asset\").asset\n",
    "\n",
    "    # select top stats:\n",
    "    top_stats= stats_per_asset.sel(asset=top.values)\n",
    "\n",
    "    # print results:\n",
    "    print(\"SR tail of the top assets:\")\n",
    "    display(top_stats.sel(field=\"sharpe_ratio\").to_pandas().tail())\n",
    "\n",
    "    print(\"avg SR = \", top_stats[-top_period:].sel(field=\"sharpe_ratio\").mean(\"asset\")[-1].item())\n",
    "    display(top_stats)\n",
    "    return top_stats.coords[\"asset\"].values\n",
    "\n",
    "get_best_instruments(data, weights, 10)\n",
    "```"
   ]
  },
  {
   "cell_type": "markdown",
   "metadata": {},
   "source": [
    "# How can I check the results for only the top 10 assets ranked by Sharpe ratio?\n",
    "\n",
    "Select the top assets and then load their data:\n",
    "\n",
    "```python\n",
    "best_assets= get_best_instruments(data, weights, 10)\n",
    "\n",
    "data= qndata.futures.load_data(tail=15 * 365, assets=best_assets)\n",
    "...\n",
    "```"
   ]
  },
  {
   "cell_type": "markdown",
   "metadata": {},
   "source": [
    "# How can prices be processed?\n",
    "\n",
    "Simply import standard libraries, for example **numpy**:\n",
    "\n",
    "```python\n",
    "import numpy as np\n",
    "\n",
    "high= np.log(data.sel(field=\"high\"))\n",
    "```"
   ]
  },
  {
   "cell_type": "markdown",
   "metadata": {},
   "source": [
    "# How can you reduce slippage impace when trading?\n",
    "\n",
    "Just apply some technique to reduce turnover:\n",
    "\n",
    "```python\n",
    "def get_lower_slippage(weights, rolling_time=6):\n",
    "    return weights.rolling({\"time\": rolling_time}).max()\n",
    "\n",
    "improved_weights = get_lower_slippage(weights, rolling_time=6)\n",
    "```"
   ]
  },
  {
   "cell_type": "markdown",
   "metadata": {},
   "source": [
    "# How to use technical analysis indicators?\n",
    "\n",
    "For available indicators see the source code of the library: /qnt/ta\n",
    "\n",
    "## ATR\n",
    "\n",
    "```python\n",
    "def get_atr(data, days=14):\n",
    "    high = data.sel(field=\"high\") * 1.0 \n",
    "    low  = data.sel(field=\"low\") * 1.0 \n",
    "    close= data.sel(field=\"close\") * 1.0\n",
    "\n",
    "    return qnta.atr(high, low, close, days)\n",
    "\n",
    "atr= get_atr(data, days=14)\n",
    "```\n",
    "\n",
    "## EMA\n",
    "\n",
    "```python\n",
    "prices= data.sel(field=\"high\")\n",
    "prices_ema= qnta.ema(prices, 15)\n",
    "```\n",
    "\n",
    "## TRIX\n",
    "\n",
    "```python\n",
    "prices= data.sel(field=\"high\")\n",
    "prices_trix= qnta.trix(prices, 15)\n",
    "```\n",
    "\n",
    "## ADL and EMA\n",
    "\n",
    "```python\n",
    "adl= qnta.ad_line(data.sel(field=\"close\")) * 1.0 \n",
    "adl_ema= qnta.ema(adl, 18)\n",
    "```"
   ]
  },
  {
   "cell_type": "markdown",
   "metadata": {},
   "source": [
    "# How can you check the quality of your strategy?\n",
    "\n",
    "```python\n",
    "import qnt.output as qnout\n",
    "qnout.check(weights, data)\n",
    "```\n",
    "\n",
    "or\n",
    "\n",
    "```python\n",
    "stat= qnstats.calc_stat(data, weights)\n",
    "display(stat.to_pandas().tail())\n",
    "```\n",
    "\n",
    "or\n",
    "\n",
    "```python\n",
    "import qnt.graph   as qngraph\n",
    "statistics= qnstats.calc_stat(data, weights)\n",
    "display(statistics.to_pandas().tail())\n",
    "\n",
    "performance= statistics.to_pandas()[\"equity\"]\n",
    "qngraph.make_plot_filled(performance.index, performance, name=\"PnL (Equity)\", type=\"log\")\n",
    "\n",
    "display(statistics[-1:].sel(field = [\"sharpe_ratio\"]).transpose().to_pandas())\n",
    "qnstats.print_correlation(weights, data)\n",
    "\n",
    "```"
   ]
  },
  {
   "cell_type": "markdown",
   "metadata": {},
   "source": [
    "# An example using pandas\n",
    "\n",
    "One can work with pandas DataFrames at intermediate steps and at the end convert them to xarray data structures:\n",
    "\n",
    "```python\n",
    "def get_price_pct_change(prices):\n",
    "    prices_pandas= prices.to_pandas()\n",
    "    assets= data.coords[\"asset\"].values\n",
    "    for asset in assets:\n",
    "        prices_pandas[asset]= prices_pandas[asset].pct_change()\n",
    "    return prices_pandas\n",
    "\n",
    "\n",
    "prices= data.sel(field=\"close\") * 1.0\n",
    "prices_pct_change= get_price_pct_change(prices).unstack().to_xarray()\n",
    "\n",
    "```"
   ]
  },
  {
   "cell_type": "markdown",
   "metadata": {},
   "source": [
    "# How to submit a strategy to the competition?\n",
    "\n",
    "Check that weights are fine:\n",
    "\n",
    "```python\n",
    "import qnt.output as qnout\n",
    "qnout.check(weights, data)\n",
    "```\n",
    "\n",
    "If everything is ok, write the weights to file:\n",
    "\n",
    "```python\n",
    "qnout.write(weights)\n",
    "```\n",
    "\n",
    "In your **personal account**:\n",
    "\n",
    "* **choose** a strategy;\n",
    "* click on the **Submit** button;\n",
    "* select the type of competition.\n",
    "\n",
    "At the beginning you will find the strategy under the **Checking** area (**Competition** > **Checking**). If Sharpe ratio is larger than 1 and technical checks are successful, the strategy will go under the **Running** area (**Competition** > **Running**). Otherwise it will be **Filtered** (**Competition** > **Filtered**) and you should inspect error and warning messages."
   ]
  }
 ],
 "metadata": {
  "kernelspec": {
   "display_name": "Python 3",
   "language": "python",
   "name": "python3"
  },
  "language_info": {
   "codemirror_mode": {
    "name": "ipython",
    "version": 3
   },
   "file_extension": ".py",
   "mimetype": "text/x-python",
   "name": "python",
   "nbconvert_exporter": "python",
   "pygments_lexer": "ipython3",
   "version": "3.7.6"
  }
 },
 "nbformat": 4,
 "nbformat_minor": 4
}
